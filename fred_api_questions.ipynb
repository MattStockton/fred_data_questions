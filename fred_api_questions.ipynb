{
 "cells": [
  {
   "cell_type": "markdown",
   "id": "1482b9a4",
   "metadata": {
    "pycharm": {
     "name": "#%% md\n"
    }
   },
   "source": [
    "# Setup"
   ]
  },
  {
   "cell_type": "code",
   "execution_count": null,
   "id": "003166ee",
   "metadata": {},
   "outputs": [],
   "source": [
    "!pip install pandas\n",
    "!pip install pandas-datareader\n",
    "!pip install matplotlib"
   ]
  },
  {
   "cell_type": "code",
   "execution_count": null,
   "id": "7ac1a2c7",
   "metadata": {},
   "outputs": [],
   "source": [
    "import pandas_datareader as pdr\n",
    "import pandas as pd\n",
    "from datetime import date"
   ]
  },
  {
   "cell_type": "code",
   "execution_count": null,
   "id": "2e9835ea",
   "metadata": {},
   "outputs": [],
   "source": [
    "start_date = date(1980,1,1)\n",
    "end_date = date(2021,1,1)"
   ]
  },
  {
   "cell_type": "markdown",
   "id": "9728e5ec",
   "metadata": {},
   "source": [
    "# Load data from the FRED dataset"
   ]
  },
  {
   "cell_type": "code",
   "execution_count": null,
   "id": "377bcb81",
   "metadata": {},
   "outputs": [],
   "source": [
    "ten_year_treasury_rate = pdr.get_data_fred('T10Y2Y', start=start_date, end=end_date)\n",
    "unemployment_rate = pdr.get_data_fred('UNRATE', start=start_date, end=end_date)\n",
    "home_sales_median_price = pdr.get_data_fred('MSPUS', start=start_date, end=end_date)\n",
    "cpi = pdr.get_data_fred('CPIAUCSL', start=start_date, end=end_date)\n",
    "gdp = pdr.get_data_fred('GDP', start=start_date, end=end_date)"
   ]
  },
  {
   "cell_type": "code",
   "execution_count": null,
   "id": "325d787f",
   "metadata": {},
   "outputs": [],
   "source": [
    "# Sample of the cpi data\n",
    "cpi[-10:]"
   ]
  },
  {
   "cell_type": "markdown",
   "id": "6bad492e",
   "metadata": {},
   "source": [
    "# (1) Combining Data\n",
    "\n",
    "How can we combine this data into one pandas DataFrame, such that each series is a column in the new DataFrame?"
   ]
  },
  {
   "cell_type": "code",
   "execution_count": null,
   "id": "e5f67cb3",
   "metadata": {},
   "outputs": [],
   "source": []
  },
  {
   "cell_type": "markdown",
   "id": "a42dc770",
   "metadata": {},
   "source": [
    "# (2) Handling missing values\n",
    "\n",
    "The datasets have different index values / date cadences, thus there are lots of NaN values. What are our options if we want to have a fully populated dataset for analysis? How do we choose which mechanism to use?"
   ]
  },
  {
   "cell_type": "code",
   "execution_count": null,
   "id": "650ef651",
   "metadata": {},
   "outputs": [],
   "source": []
  },
  {
   "cell_type": "markdown",
   "id": "bf504ab0",
   "metadata": {},
   "source": [
    "# (3) Deriving new data\n",
    "\n",
    "How would we add a column that represents T10Y2Y / UNRATE ?\n",
    "\n",
    "How could we get the maximum T10Y2Y grouped by month?"
   ]
  },
  {
   "cell_type": "code",
   "execution_count": null,
   "id": "b8f71a9c",
   "metadata": {},
   "outputs": [],
   "source": []
  },
  {
   "cell_type": "markdown",
   "id": "76df9c59",
   "metadata": {},
   "source": [
    "# (3) Visualizing the data\n",
    "\n",
    "How could we visualize this data to learn more about it? What do you notice from the visualization?"
   ]
  },
  {
   "cell_type": "code",
   "execution_count": null,
   "id": "e2efabe3",
   "metadata": {},
   "outputs": [],
   "source": []
  },
  {
   "cell_type": "markdown",
   "id": "122a1920",
   "metadata": {},
   "source": [
    "# (4) Better Visualization\n",
    "\n",
    "Since the data has both rate / % data and absolute data with various scales, it can be difficult to visualize the data when it's combined all together. Do you have ideas on how we could improve the visualization?"
   ]
  },
  {
   "cell_type": "code",
   "execution_count": null,
   "id": "6c888a4e",
   "metadata": {},
   "outputs": [],
   "source": []
  },
  {
   "cell_type": "markdown",
   "id": "57921271",
   "metadata": {},
   "source": [
    "# (5) Better ways to look at home prices, CPI, and GDP\n",
    "\n",
    "It looks like they are all trending up over time, but have different levels and rates of change. Is there a better way to visualize what's happening?\n",
    "\n",
    "How can we look at how the levels are changing over time?"
   ]
  },
  {
   "cell_type": "code",
   "execution_count": null,
   "id": "3f9cbfaa",
   "metadata": {},
   "outputs": [],
   "source": []
  },
  {
   "cell_type": "markdown",
   "id": "9b2cda7f",
   "metadata": {},
   "source": [
    "# (6) General stats\n",
    "\n",
    "How can you see some general stats about the data?"
   ]
  },
  {
   "cell_type": "code",
   "execution_count": null,
   "id": "06228c2d",
   "metadata": {},
   "outputs": [],
   "source": []
  },
  {
   "cell_type": "markdown",
   "id": "7eb34ffa",
   "metadata": {},
   "source": [
    "How could we look at a dataset that represents the rolling mean over 12 months at the end of each month?"
   ]
  },
  {
   "cell_type": "code",
   "execution_count": null,
   "id": "2c1b6a93",
   "metadata": {},
   "outputs": [],
   "source": []
  },
  {
   "cell_type": "markdown",
   "id": "26dbd716",
   "metadata": {},
   "source": [
    "# (7) How can you understand the linear dependence of the data?\n",
    "\n",
    "What tools / techniques can we use to understand how each series is related to each other?"
   ]
  },
  {
   "cell_type": "code",
   "execution_count": null,
   "id": "76ee00d2",
   "metadata": {},
   "outputs": [],
   "source": []
  },
  {
   "cell_type": "markdown",
   "id": "e871f9f9",
   "metadata": {},
   "source": [
    "# (8) Discussion Questions\n",
    "\n",
    "- If we want to build a system to automatically collect this data from Fred on a regular basis, how would you design the system and what information would you need to do so?\n",
    "    - How would you orchestrate the collection?\n",
    "    - How would you store the data?\n",
    "\n",
    "- What if the system had to be designed such that adding new datasets was configurable? e.g. we have the 5 datasets above, and we anticipate having to allow the user to add a new dataset for collection\n",
    "\n",
    "- What types of data validations / checks would be important for this type of system?\n",
    "\n",
    "- The downstream consumer of this data will want to be able to see similar transformations as described above. How would you make those transformstions available? What would you store versus compute?"
   ]
  }
 ],
 "metadata": {
  "kernelspec": {
   "display_name": "Python 3 (ipykernel)",
   "language": "python",
   "name": "python3"
  },
  "language_info": {
   "codemirror_mode": {
    "name": "ipython",
    "version": 3
   },
   "file_extension": ".py",
   "mimetype": "text/x-python",
   "name": "python",
   "nbconvert_exporter": "python",
   "pygments_lexer": "ipython3",
   "version": "3.9.10"
  }
 },
 "nbformat": 4,
 "nbformat_minor": 5
}
